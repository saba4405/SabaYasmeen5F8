{
  "cells": [
    {
      "cell_type": "markdown",
      "metadata": {
        "id": "view-in-github",
        "colab_type": "text"
      },
      "source": [
        "<a href=\"https://colab.research.google.com/github/saba4405/SabaYasmeen5F8/blob/main/assignment_01.ipynb\" target=\"_parent\"><img src=\"https://colab.research.google.com/assets/colab-badge.svg\" alt=\"Open In Colab\"/></a>"
      ]
    },
    {
      "cell_type": "markdown",
      "id": "548b84c2-e24f-4a12-98bb-5e7bd5ec86bd",
      "metadata": {
        "id": "548b84c2-e24f-4a12-98bb-5e7bd5ec86bd"
      },
      "source": []
    },
    {
      "cell_type": "markdown",
      "id": "99fbfc45-ba9e-4766-8219-f5dbcacc8481",
      "metadata": {
        "id": "99fbfc45-ba9e-4766-8219-f5dbcacc8481"
      },
      "source": [
        "<a target=\"_blank\" href=\"https://colab.research.google.com/github/kgsb24/rishi-college/blob/main/assignments/Assignment_01.ipynb\">\n",
        "  <img src=\"https://colab.research.google.com/assets/colab-badge.svg\" alt=\"Open In Colab\"/>\n",
        "</a>"
      ]
    },
    {
      "cell_type": "markdown",
      "id": "07a1f870-f905-4703-8b65-12e83172133a",
      "metadata": {
        "id": "07a1f870-f905-4703-8b65-12e83172133a"
      },
      "source": [
        "## Basic Python Fundamentals"
      ]
    },
    {
      "cell_type": "code",
      "execution_count": null,
      "id": "502e1d87-2fdd-4588-a330-2af21268215e",
      "metadata": {
        "id": "502e1d87-2fdd-4588-a330-2af21268215e",
        "colab": {
          "base_uri": "https://localhost:8080/"
        },
        "outputId": "14ae2f79-b024-4b2e-aeb5-1c87cbd0dbea"
      },
      "outputs": [
        {
          "output_type": "stream",
          "name": "stdout",
          "text": [
            "<class 'int'>\n"
          ]
        }
      ],
      "source": [
        "# Write a Python program to declare a variable x with the value 10 and print its type.\n",
        "x = 10\n",
        "print(type(x))\n"
      ]
    },
    {
      "cell_type": "code",
      "execution_count": null,
      "id": "dae77579-4b7d-4f06-96e0-7bdfe43860d7",
      "metadata": {
        "id": "dae77579-4b7d-4f06-96e0-7bdfe43860d7",
        "colab": {
          "base_uri": "https://localhost:8080/"
        },
        "outputId": "c3b99c4c-120f-48d1-ba31-bf932799ef32"
      },
      "outputs": [
        {
          "output_type": "stream",
          "name": "stdout",
          "text": [
            "30\n"
          ]
        }
      ],
      "source": [
        "# Write a Python program to declare three variables a = 5, b = 10, and c = 15, and print their sum.\n",
        "a = 5\n",
        "b = 10\n",
        "c = 15\n",
        "print(a+b+c)"
      ]
    },
    {
      "cell_type": "code",
      "execution_count": null,
      "id": "c32867b2-a615-426a-89ae-bd2793b6a4dc",
      "metadata": {
        "id": "c32867b2-a615-426a-89ae-bd2793b6a4dc",
        "colab": {
          "base_uri": "https://localhost:8080/"
        },
        "outputId": "645cfdf1-1526-420a-e16b-8ec90caf6953"
      },
      "outputs": [
        {
          "output_type": "stream",
          "name": "stdout",
          "text": [
            "<class 'int'>\n",
            "<class 'float'>\n",
            "<class 'str'>\n"
          ]
        }
      ],
      "source": [
        "# Write a Python program that checks and prints the type of a variable (e.g., int, float, str, etc.).\n",
        "x = 67\n",
        "y = 5.3245\n",
        "z = 'rishi'\n",
        "print(type(x))\n",
        "print(type(y))\n",
        "print(type(z))"
      ]
    },
    {
      "cell_type": "code",
      "execution_count": null,
      "id": "8b233e41-9d44-4869-9ead-afb3ff1c0b67",
      "metadata": {
        "id": "8b233e41-9d44-4869-9ead-afb3ff1c0b67",
        "colab": {
          "base_uri": "https://localhost:8080/"
        },
        "outputId": "5d84cb6b-a1c1-4313-b58a-393b3a289dc3"
      },
      "outputs": [
        {
          "output_type": "stream",
          "name": "stdout",
          "text": [
            "Enter a value:78\n",
            "Enter b value:85\n",
            "163\n",
            "-7\n",
            "6630\n",
            "0.9176470588235294\n"
          ]
        }
      ],
      "source": [
        "# Write a Python program to perform addition, subtraction, multiplication, and division on two numbers. (User input is required for the numbers)\n",
        "a = int(input(\"Enter a value:\"))\n",
        "b = int(input(\"Enter b value:\"))\n",
        "print(a+b)\n",
        "print(a-b)\n",
        "print(a*b)\n",
        "print(a/b)"
      ]
    },
    {
      "cell_type": "code",
      "execution_count": null,
      "id": "629435bd-6bfa-44de-91d9-3b2937713257",
      "metadata": {
        "id": "629435bd-6bfa-44de-91d9-3b2937713257",
        "colab": {
          "base_uri": "https://localhost:8080/"
        },
        "outputId": "b5a2c3f8-1dc8-41d1-ca11-269a6bd9e711"
      },
      "outputs": [
        {
          "output_type": "stream",
          "name": "stdout",
          "text": [
            "123\n",
            "123.0\n"
          ]
        }
      ],
      "source": [
        "# Write a Python program to convert a string \"123\" to an integer and a float and print the results.\n",
        "a = '123'\n",
        "print(int(a))\n",
        "print(float(a))"
      ]
    },
    {
      "cell_type": "code",
      "execution_count": null,
      "id": "599421f1-51c1-4653-9d78-b007fcc6861b",
      "metadata": {
        "id": "599421f1-51c1-4653-9d78-b007fcc6861b",
        "colab": {
          "base_uri": "https://localhost:8080/"
        },
        "outputId": "7501da6c-9054-4ef4-b90f-b1a89c17ddb7"
      },
      "outputs": [
        {
          "output_type": "stream",
          "name": "stdout",
          "text": [
            "Enter a name:Saba\n",
            "S\n"
          ]
        }
      ],
      "source": [
        "# Write a Python program to print the first character of a given string. (User input for the string)\n",
        "name = str(input(\"Enter a name:\"))\n",
        "first_letter  = name[0]\n",
        "print(first_letter)"
      ]
    },
    {
      "cell_type": "code",
      "source": [
        "name = str(input(\"Enter a name:\"))\n",
        "print(name[0])"
      ],
      "metadata": {
        "colab": {
          "base_uri": "https://localhost:8080/"
        },
        "id": "q_4SMnaWJVYy",
        "outputId": "b81b2bec-12e5-4b02-c702-3215ab686fc0"
      },
      "id": "q_4SMnaWJVYy",
      "execution_count": null,
      "outputs": [
        {
          "output_type": "stream",
          "name": "stdout",
          "text": [
            "Enter a name:Saba\n",
            "S\n"
          ]
        }
      ]
    },
    {
      "cell_type": "code",
      "execution_count": null,
      "id": "54ee0a5d-415f-40b6-b82e-c0de12a002f9",
      "metadata": {
        "id": "54ee0a5d-415f-40b6-b82e-c0de12a002f9",
        "colab": {
          "base_uri": "https://localhost:8080/"
        },
        "outputId": "7eccdec6-8509-4c62-884b-aa1c89789436"
      },
      "outputs": [
        {
          "output_type": "stream",
          "name": "stdout",
          "text": [
            "Enter a string:rishi\n",
            "5\n"
          ]
        }
      ],
      "source": [
        "# Write a Python program to print the length of a string. (User input for the string)\n",
        "name = str(input(\"Enter a string:\"))\n",
        "print(len(name))"
      ]
    },
    {
      "cell_type": "code",
      "execution_count": null,
      "id": "65f44c33-618e-4337-a9d1-9de888c93a0a",
      "metadata": {
        "id": "65f44c33-618e-4337-a9d1-9de888c93a0a",
        "colab": {
          "base_uri": "https://localhost:8080/"
        },
        "outputId": "d7e5f15a-78ae-4e8c-d339-e9b8549e2833"
      },
      "outputs": [
        {
          "output_type": "stream",
          "name": "stdout",
          "text": [
            "Enter a name:yasmeen\n",
            "True\n"
          ]
        }
      ],
      "source": [
        "# Write a Python program to check if a given string contains only alphabets.\n",
        "name = str(input(\"Enter a name:\"))\n",
        "print(name.isalpha())"
      ]
    },
    {
      "cell_type": "code",
      "execution_count": null,
      "id": "37463128-2b51-4860-b6bf-40d3c03fbe84",
      "metadata": {
        "id": "37463128-2b51-4860-b6bf-40d3c03fbe84",
        "colab": {
          "base_uri": "https://localhost:8080/"
        },
        "outputId": "fe15980f-7c43-4243-b319-4fc40227ca38"
      },
      "outputs": [
        {
          "output_type": "stream",
          "name": "stdout",
          "text": [
            "RishiCollage\n"
          ]
        }
      ],
      "source": [
        "# Write a Python program to concatenate two strings. (User input for the strings)\n",
        "a = 'Rishi'\n",
        "b = 'Collage'\n",
        "print(a+b)"
      ]
    },
    {
      "cell_type": "code",
      "execution_count": null,
      "id": "b1c5d364-eccf-473a-b03a-ab15f3e917cf",
      "metadata": {
        "id": "b1c5d364-eccf-473a-b03a-ab15f3e917cf",
        "colab": {
          "base_uri": "https://localhost:8080/"
        },
        "outputId": "4d5715e1-04e4-490b-99e1-38c768f86f18"
      },
      "outputs": [
        {
          "output_type": "stream",
          "name": "stdout",
          "text": [
            "Enter a name:rishiabc\n",
            "5\n"
          ]
        }
      ],
      "source": [
        "# Write a Python program to find the index of a substring \"abc\" in a string. (User input for the string)\n",
        "name = str(input(\"Enter a name:\"))\n",
        "print(name.index('abc'))"
      ]
    },
    {
      "cell_type": "code",
      "execution_count": null,
      "id": "cc92afd9-ba4b-4934-a79d-f26825b4efc2",
      "metadata": {
        "id": "cc92afd9-ba4b-4934-a79d-f26825b4efc2",
        "colab": {
          "base_uri": "https://localhost:8080/"
        },
        "outputId": "ae41cecc-265a-4b96-edfe-7ad5d8f079a7"
      },
      "outputs": [
        {
          "output_type": "stream",
          "name": "stdout",
          "text": [
            "Enter a string:Mango\n",
            "MANGO\n",
            "mango\n"
          ]
        }
      ],
      "source": [
        "# Write a Python program to convert a string to both uppercase and lowercase. (User input for the string)\n",
        "name = str(input(\"Enter a string:\"))\n",
        "print(name.upper())\n",
        "print(name.lower())"
      ]
    },
    {
      "cell_type": "code",
      "execution_count": null,
      "id": "f24f79b3-da8b-44bf-8310-c68442e86e3e",
      "metadata": {
        "id": "f24f79b3-da8b-44bf-8310-c68442e86e3e",
        "colab": {
          "base_uri": "https://localhost:8080/"
        },
        "outputId": "886256b8-ed3f-4031-be3f-c9ab6c7907cb"
      },
      "outputs": [
        {
          "output_type": "stream",
          "name": "stdout",
          "text": [
            "Enter a thing name:saba\n",
            "2\n"
          ]
        }
      ],
      "source": [
        "# Write a Python program to count how many times a particular character appears in a string. (User input for string and character)\n",
        "name = str(input(\"Enter a thing name:\"))\n",
        "print(name.count(\"a\"))"
      ]
    },
    {
      "cell_type": "code",
      "execution_count": null,
      "id": "f2e8f25c-5c34-44eb-b749-7cc4c100b9a8",
      "metadata": {
        "id": "f2e8f25c-5c34-44eb-b749-7cc4c100b9a8",
        "colab": {
          "base_uri": "https://localhost:8080/"
        },
        "outputId": "0deafbd5-4646-49db-943e-dfe7054f0486"
      },
      "outputs": [
        {
          "output_type": "stream",
          "name": "stdout",
          "text": [
            "Hello Saba Good Morning!\n"
          ]
        }
      ],
      "source": [
        "# Write a Python program to take the user's name as input and print a personalized greeting. (Hello, username, Good Morning)\n",
        "name = 'Saba'\n",
        "print(\"Hello\",name,\"Good Morning!\")"
      ]
    },
    {
      "cell_type": "code",
      "execution_count": null,
      "id": "189296cf-77e6-4f48-b010-77458da5bc9d",
      "metadata": {
        "id": "189296cf-77e6-4f48-b010-77458da5bc9d",
        "colab": {
          "base_uri": "https://localhost:8080/"
        },
        "outputId": "ad4a0c3e-3cec-4968-f67c-67ca8245309c"
      },
      "outputs": [
        {
          "output_type": "stream",
          "name": "stdout",
          "text": [
            "99\n"
          ]
        }
      ],
      "source": [
        "# Write a Python program to take two numbers as input and print their sum.\n",
        "a = 35\n",
        "b = 64\n",
        "print(a+b)"
      ]
    },
    {
      "cell_type": "code",
      "execution_count": null,
      "id": "0563b26c-0218-47b8-9035-98beb73b0931",
      "metadata": {
        "id": "0563b26c-0218-47b8-9035-98beb73b0931",
        "colab": {
          "base_uri": "https://localhost:8080/"
        },
        "outputId": "895bc0c8-aa86-4ed6-e3f1-111f5a2a4f2f"
      },
      "outputs": [
        {
          "output_type": "stream",
          "name": "stdout",
          "text": [
            "Enter a name:Saba\n",
            "Enter age:19\n",
            "My name is Saba and my age is 19\n"
          ]
        }
      ],
      "source": [
        "# Write a Python program to format and display a string containing the user's name and age. (User input required)\n",
        "name = str(input(\"Enter a name:\"))\n",
        "age = int(input(\"Enter age:\"))\n",
        "print(\"My name is\",name,\"and my age is\",age)"
      ]
    },
    {
      "cell_type": "markdown",
      "id": "0bde6e5a-0415-4b06-8b5a-95fa252b34eb",
      "metadata": {
        "id": "0bde6e5a-0415-4b06-8b5a-95fa252b34eb"
      },
      "source": [
        "## Control Structures (Conditionals and Loops)"
      ]
    },
    {
      "cell_type": "code",
      "execution_count": null,
      "id": "aefff5f3-b61e-43e6-a458-7367ef1af9de",
      "metadata": {
        "id": "aefff5f3-b61e-43e6-a458-7367ef1af9de",
        "colab": {
          "base_uri": "https://localhost:8080/"
        },
        "outputId": "5eaece79-e5ca-477a-e3b4-c158f9be4448"
      },
      "outputs": [
        {
          "output_type": "stream",
          "name": "stdout",
          "text": [
            "Enter a number:245\n",
            "245 is positive\n"
          ]
        }
      ],
      "source": [
        "# Write a Python program that takes a number as input and checks whether it is positive, negative, or zero.\n",
        "a = int(input(\"Enter a number:\"))\n",
        "if a > 0:\n",
        "  print(a,\"is positive\")\n",
        "elif a < 0:\n",
        "  print(a,\"is negative\")\n",
        "else :\n",
        "   print(a,\"is 0\")"
      ]
    },
    {
      "cell_type": "code",
      "execution_count": null,
      "id": "4dc6d14b-6d22-4348-859a-2a03f9be65f7",
      "metadata": {
        "id": "4dc6d14b-6d22-4348-859a-2a03f9be65f7",
        "colab": {
          "base_uri": "https://localhost:8080/"
        },
        "outputId": "893426e2-b1a3-42fb-ce14-c748e9ce573a"
      },
      "outputs": [
        {
          "output_type": "stream",
          "name": "stdout",
          "text": [
            "Enter a number:54637\n",
            "Enter a number:6474\n",
            "Enter a number:87458\n",
            "87458 is maximum\n"
          ]
        }
      ],
      "source": [
        "# Write a Python program to find the maximum of three numbers. (User input for the numbers)\n",
        "a = int(input(\"Enter a number:\"))\n",
        "b = int(input(\"Enter a number:\"))\n",
        "c = int(input(\"Enter a number:\"))\n",
        "if a > b and a > c:\n",
        "  print(a,\"is maximum\")\n",
        "elif b > a and b > c:\n",
        "  print(b,\"is maximum\")\n",
        "else:\n",
        "  print(c,\"is maximum\")"
      ]
    },
    {
      "cell_type": "code",
      "execution_count": null,
      "id": "3f6d1f45-eb68-4142-89d6-510046f21879",
      "metadata": {
        "colab": {
          "base_uri": "https://localhost:8080/"
        },
        "id": "3f6d1f45-eb68-4142-89d6-510046f21879",
        "outputId": "fd7fed2d-ac04-4bac-e5f1-0a808f217cea"
      },
      "outputs": [
        {
          "output_type": "stream",
          "name": "stdout",
          "text": [
            "Enter a year:2027\n",
            "2027 is not a leap year\n"
          ]
        }
      ],
      "source": [
        "# Write a Python program to check if a year is a leap year. (User input for the year)\n",
        "year = int(input(\"Enter a year:\"))\n",
        "if(year%4==0 and year%100!=0) or (year%400==0):\n",
        "    print(year,\"is a leap year\")\n",
        "else:\n",
        "    print(year,\"is not a leap year\")"
      ]
    },
    {
      "cell_type": "code",
      "execution_count": null,
      "id": "b6a07105-6fa5-4f70-b64b-ebd66afc3c2b",
      "metadata": {
        "colab": {
          "base_uri": "https://localhost:8080/"
        },
        "id": "b6a07105-6fa5-4f70-b64b-ebd66afc3c2b",
        "outputId": "0326fcc3-82cd-4e58-9c0e-a4dd3cb18fed"
      },
      "outputs": [
        {
          "output_type": "stream",
          "name": "stdout",
          "text": [
            "enter the number:30\n",
            "The number is divisible by 3 and 5\n"
          ]
        }
      ],
      "source": [
        "# Write a Python program to check if a number is divisible by both 3 and 5. (User input for the number)\n",
        "number=int(input(\"enter the number:\"))\n",
        "if (number%3==0 and number%5==0):\n",
        "    print(\"The number is divisible by 3 and 5\")"
      ]
    },
    {
      "cell_type": "code",
      "execution_count": null,
      "id": "d10c9005-b85d-42f9-81d0-65d149415888",
      "metadata": {
        "id": "d10c9005-b85d-42f9-81d0-65d149415888",
        "colab": {
          "base_uri": "https://localhost:8080/"
        },
        "outputId": "f5136443-dd80-4287-a9f3-a968d75c6ff2"
      },
      "outputs": [
        {
          "output_type": "stream",
          "name": "stdout",
          "text": [
            "Enter a name:afeefa\n",
            "afeefa is a palindrome.\n"
          ]
        }
      ],
      "source": [
        "# Write a Python program to check if a string is a palindrome. (User input for the string)\n",
        "name = input(\"Enter a name:\")\n",
        "if name == name[::-1]:\n",
        "    print(f\"{name} is a palindrome.\")\n",
        "else:\n",
        "    print(f\"{name} is not a palindrome.\")\n"
      ]
    },
    {
      "cell_type": "code",
      "execution_count": null,
      "id": "82d76cdf-efc6-45c6-ab09-9d1f17b3d857",
      "metadata": {
        "id": "82d76cdf-efc6-45c6-ab09-9d1f17b3d857",
        "outputId": "e96e4f5c-cfdf-4fa5-edbc-0e2f9b760064",
        "colab": {
          "base_uri": "https://localhost:8080/"
        }
      },
      "outputs": [
        {
          "output_type": "stream",
          "name": "stdout",
          "text": [
            "1\n",
            "2\n",
            "3\n",
            "4\n",
            "5\n",
            "6\n",
            "7\n",
            "8\n",
            "9\n",
            "10\n"
          ]
        }
      ],
      "source": [
        "# Write a Python program to print numbers from 1 to 10 using a for loop.\n",
        "for i in range(1, 11):\n",
        "  print(i)\n"
      ]
    },
    {
      "cell_type": "code",
      "execution_count": null,
      "id": "d09e8994-e984-4c12-ab1e-1bfc6938a389",
      "metadata": {
        "id": "d09e8994-e984-4c12-ab1e-1bfc6938a389",
        "outputId": "6d9fdba3-d7f3-4c60-f2c2-9efd8765461a",
        "colab": {
          "base_uri": "https://localhost:8080/"
        }
      },
      "outputs": [
        {
          "output_type": "stream",
          "name": "stdout",
          "text": [
            "2\n",
            "4\n",
            "6\n",
            "8\n",
            "10\n",
            "12\n",
            "14\n",
            "16\n",
            "18\n",
            "20\n"
          ]
        }
      ],
      "source": [
        "# Write a Python program to print all even numbers from 1 to 20 using a while loop.\n",
        "number = 2\n",
        "while number<=20:\n",
        "  print(number)\n",
        "  number += 2\n"
      ]
    },
    {
      "cell_type": "code",
      "execution_count": null,
      "id": "c09ca878-167e-49ca-97f0-247a43c9b472",
      "metadata": {
        "id": "c09ca878-167e-49ca-97f0-247a43c9b472",
        "outputId": "efcadd79-2213-4d94-df9b-73e0d38eac93",
        "colab": {
          "base_uri": "https://localhost:8080/"
        }
      },
      "outputs": [
        {
          "output_type": "stream",
          "name": "stdout",
          "text": [
            "Enter a number:76\n",
            "76 * 1 = 76\n",
            "76 * 2 = 152\n",
            "76 * 3 = 228\n",
            "76 * 4 = 304\n",
            "76 * 5 = 380\n",
            "76 * 6 = 456\n",
            "76 * 7 = 532\n",
            "76 * 8 = 608\n",
            "76 * 9 = 684\n",
            "76 * 10 = 760\n"
          ]
        }
      ],
      "source": [
        "# Write a Python program to print the multiplication table of a given number using a for loop. (User input for the number)\n",
        "number = int(input(\"Enter a number:\"))\n",
        "for i in range(1,11):\n",
        "  print(number,\"*\",i,\"=\",number*i)"
      ]
    },
    {
      "cell_type": "code",
      "execution_count": null,
      "id": "b72118ab-e62d-4af9-bcec-e1cc6af31b25",
      "metadata": {
        "id": "b72118ab-e62d-4af9-bcec-e1cc6af31b25",
        "outputId": "56ac848d-6ee2-4862-ef41-15a3bad3b742",
        "colab": {
          "base_uri": "https://localhost:8080/"
        }
      },
      "outputs": [
        {
          "output_type": "stream",
          "name": "stdout",
          "text": [
            "Enter a number:12\n",
            "78\n"
          ]
        }
      ],
      "source": [
        "# Write a Python program to calculate the sum of all numbers from 1 to n using a while loop. (User input for n)\n",
        "n = int(input(\"Enter a number:\"))\n",
        "sum = 0\n",
        "number = 1\n",
        "while number <=n:\n",
        "  sum = sum + number\n",
        "  number = number + 1\n",
        "print(sum)"
      ]
    },
    {
      "cell_type": "code",
      "execution_count": null,
      "id": "ae93621f-11a2-40b7-97bc-3002f03ac36a",
      "metadata": {
        "id": "ae93621f-11a2-40b7-97bc-3002f03ac36a",
        "colab": {
          "base_uri": "https://localhost:8080/"
        },
        "outputId": "3e78d5ba-80f2-4ce9-b357-9d4f34f1b9f8"
      },
      "outputs": [
        {
          "output_type": "stream",
          "name": "stdout",
          "text": [
            "Enter a number: 13\n",
            "The factorial of 13 is 6227020800\n"
          ]
        }
      ],
      "source": [
        "# Write a Python program to calculate the factorial of a number using a while loop. (User input for the number)\n",
        "number = int(input(\"Enter a number: \"))\n",
        "factorial = 1\n",
        "i = 1\n",
        "while i <= number:\n",
        "    factorial *= i\n",
        "    i += 1\n",
        "print(\"The factorial of\", number, \"is\", factorial)"
      ]
    },
    {
      "cell_type": "code",
      "execution_count": null,
      "id": "68467ccc-d696-4ef1-84c4-164c9d87f755",
      "metadata": {
        "id": "68467ccc-d696-4ef1-84c4-164c9d87f755",
        "colab": {
          "base_uri": "https://localhost:8080/"
        },
        "outputId": "e60894b5-4947-44c2-88a3-8d9c2a9f6a6f"
      },
      "outputs": [
        {
          "output_type": "stream",
          "name": "stdout",
          "text": [
            "Enter the number of terms: 5\n",
            "Fibonacci sequence:\n",
            "0 1 1 2 3 "
          ]
        }
      ],
      "source": [
        "# Write a Python program to print the Fibonacci sequence up to n terms. (User input for n)\n",
        "n = int(input(\"Enter the number of terms: \"))\n",
        "a, b = 0, 1\n",
        "print(\"Fibonacci sequence:\")\n",
        "for _ in range(n):\n",
        "    print(a, end=\" \")\n",
        "    a, b = b, a + b"
      ]
    },
    {
      "cell_type": "code",
      "execution_count": null,
      "id": "5bebd1f3-2606-4102-aa55-01cb1650f632",
      "metadata": {
        "id": "5bebd1f3-2606-4102-aa55-01cb1650f632",
        "colab": {
          "base_uri": "https://localhost:8080/"
        },
        "outputId": "52386624-27df-4fa1-d9dd-01a2e2d949cb"
      },
      "outputs": [
        {
          "output_type": "stream",
          "name": "stdout",
          "text": [
            "2\n",
            "3\n",
            "5\n",
            "7\n",
            "11\n",
            "13\n",
            "17\n",
            "19\n",
            "23\n",
            "29\n",
            "31\n",
            "37\n",
            "41\n",
            "43\n",
            "47\n",
            "53\n",
            "59\n",
            "61\n",
            "67\n",
            "71\n",
            "73\n",
            "79\n",
            "83\n",
            "89\n",
            "97\n"
          ]
        }
      ],
      "source": [
        "# Write a Python program to find all the prime numbers from 1 to 100.\n",
        "for number in range(1, 101):\n",
        "    if number > 1:\n",
        "        for i in range(2, number):\n",
        "            if (number % i) == 0:\n",
        "                break\n",
        "        else:\n",
        "            print(number)"
      ]
    },
    {
      "cell_type": "code",
      "execution_count": null,
      "id": "0a3f894e-52ba-4c0b-9158-a70f31f4fd49",
      "metadata": {
        "id": "0a3f894e-52ba-4c0b-9158-a70f31f4fd49",
        "colab": {
          "base_uri": "https://localhost:8080/"
        },
        "outputId": "9ed9d80b-e9c6-433d-800e-e652c49ce55d"
      },
      "outputs": [
        {
          "output_type": "stream",
          "name": "stdout",
          "text": [
            "Current number: 1\n",
            "Current number: 2\n",
            "Current number: 3\n",
            "Current number: 4\n",
            "Current number: 5\n",
            "Current number: 6\n",
            "Current number: 7\n",
            "Current number: 8\n",
            "Current number: 9\n",
            "Current number: 10\n",
            "Current number: 11\n",
            "Current number: 12\n",
            "Current number: 13\n",
            "Current number: 14\n",
            "Current number: 15\n",
            "Current number: 16\n",
            "Current number: 17\n",
            "Current number: 18\n",
            "Current number: 19\n",
            "Current number: 20\n",
            "Current number: 21\n",
            "Current number: 22\n",
            "Current number: 23\n",
            "Current number: 24\n",
            "Current number: 25\n",
            "Current number: 26\n",
            "Current number: 27\n",
            "Current number: 28\n",
            "Current number: 29\n",
            "Current number: 30\n",
            "Current number: 31\n",
            "Current number: 32\n",
            "Current number: 33\n",
            "Current number: 34\n",
            "Current number: 35\n",
            "Current number: 36\n",
            "Current number: 37\n",
            "Current number: 38\n",
            "Current number: 39\n",
            "Current number: 40\n",
            "Current number: 41\n",
            "Current number: 42\n",
            "Current number: 43\n",
            "Current number: 44\n",
            "Current number: 45\n",
            "Current number: 46\n",
            "Current number: 47\n",
            "Current number: 48\n",
            "Current number: 49\n",
            "Current number: 50\n",
            "Found a number greater than 50: 51\n"
          ]
        }
      ],
      "source": [
        "# Write a Python program that breaks out of a loop when a specific condition is met (e.g., when a number greater than 50 is found).\n",
        "for number in range(1, 100):\n",
        "    if number > 50:\n",
        "        print(f\"Found a number greater than 50: {number}\")\n",
        "        break\n",
        "    else:\n",
        "        print(f\"Current number: {number}\")"
      ]
    },
    {
      "cell_type": "code",
      "execution_count": null,
      "id": "499b91d0-1f1b-494f-af2b-8cc3a06d90ed",
      "metadata": {
        "id": "499b91d0-1f1b-494f-af2b-8cc3a06d90ed",
        "colab": {
          "base_uri": "https://localhost:8080/"
        },
        "outputId": "cc7f6ef2-4ce9-4492-e2d4-92d7a9465cd0"
      },
      "outputs": [
        {
          "output_type": "stream",
          "name": "stdout",
          "text": [
            "1\n",
            "3\n",
            "5\n",
            "7\n",
            "9\n",
            "11\n",
            "13\n",
            "15\n",
            "17\n",
            "19\n"
          ]
        }
      ],
      "source": [
        "# Write a Python program to skip even numbers while printing numbers from 1 to 20 using a for loop.\n",
        "for number in range(1, 21):\n",
        "    if number % 2 == 0:\n",
        "        continue\n",
        "    print(number)"
      ]
    },
    {
      "cell_type": "code",
      "execution_count": null,
      "id": "f8ffed70-dfde-4262-a2fd-0d35d69b5fb1",
      "metadata": {
        "id": "f8ffed70-dfde-4262-a2fd-0d35d69b5fb1",
        "colab": {
          "base_uri": "https://localhost:8080/"
        },
        "outputId": "0705c6cb-38f6-4f1e-af26-f9422092f5f4"
      },
      "outputs": [
        {
          "name": "stdout",
          "output_type": "stream",
          "text": [
            "Enter a string: hello world\n",
            "Enter a character: o\n"
          ]
        }
      ],
      "source": [
        "# Write a Python program to count how many times a particular character appears in a string using a for loop. (User input for string and character)\n",
        "string = input(\"Enter a string: \")\n",
        "character = input(\"Enter a character: \")\n",
        "count = 0"
      ]
    },
    {
      "cell_type": "code",
      "execution_count": null,
      "id": "01f976ed-4dcd-4842-ae84-d3b5cc42d011",
      "metadata": {
        "id": "01f976ed-4dcd-4842-ae84-d3b5cc42d011",
        "colab": {
          "base_uri": "https://localhost:8080/"
        },
        "outputId": "88fed2cf-649c-497d-929b-9d5c4a18ad1b"
      },
      "outputs": [
        {
          "output_type": "stream",
          "name": "stdout",
          "text": [
            "Enter a number: 25\n",
            "The sum of digits is: 7\n"
          ]
        }
      ],
      "source": [
        "# Write a Python program to calculate the sum of digits of a number. (User input for the number)\n",
        "number = int(input(\"Enter a number: \"))\n",
        "sum = 0\n",
        "while number > 0:\n",
        "    digit = number % 10\n",
        "    sum += digit\n",
        "    number //= 10\n",
        "print(\"The sum of digits is:\", sum)"
      ]
    },
    {
      "cell_type": "markdown",
      "id": "fe644fae-f262-48dd-b7ff-08eb747d297e",
      "metadata": {
        "id": "fe644fae-f262-48dd-b7ff-08eb747d297e"
      },
      "source": [
        "## Data Structures (Lists, Tuples, Sets, Dictionaries)"
      ]
    },
    {
      "cell_type": "code",
      "execution_count": null,
      "id": "a0333c26-8e19-4c71-9722-d32cf8625ef6",
      "metadata": {
        "id": "a0333c26-8e19-4c71-9722-d32cf8625ef6",
        "colab": {
          "base_uri": "https://localhost:8080/"
        },
        "outputId": "18aefaa1-7f53-452d-89c7-d0ac18724eaf"
      },
      "outputs": [
        {
          "output_type": "stream",
          "name": "stdout",
          "text": [
            "The sum of the elements is: 15\n"
          ]
        }
      ],
      "source": [
        "# Write a Python program to create a list of integers and print the sum of the elements.\n",
        "numbers = [1, 2, 3, 4, 5]\n",
        "total_sum = sum(numbers)\n",
        "print(\"The sum of the elements is:\", total_sum)"
      ]
    },
    {
      "cell_type": "code",
      "execution_count": null,
      "id": "5a23046d-80b0-4f8d-a02f-4e3d833c0443",
      "metadata": {
        "id": "5a23046d-80b0-4f8d-a02f-4e3d833c0443",
        "colab": {
          "base_uri": "https://localhost:8080/"
        },
        "outputId": "a990c2ae-508d-4398-99af-708e6cf7a723"
      },
      "outputs": [
        {
          "output_type": "stream",
          "name": "stdout",
          "text": [
            "The largest element is: 90\n"
          ]
        }
      ],
      "source": [
        "# Write a Python program to find the largest element in a list.\n",
        "my_list = [20, 80, 90 ,54, 87]\n",
        "largest_element = max(my_list)\n",
        "print(\"The largest element is:\",largest_element)"
      ]
    },
    {
      "cell_type": "code",
      "execution_count": null,
      "id": "9939c2d2-90fd-4e80-81bc-227c72e60e37",
      "metadata": {
        "id": "9939c2d2-90fd-4e80-81bc-227c72e60e37",
        "colab": {
          "base_uri": "https://localhost:8080/"
        },
        "outputId": "0eebf7e0-9d7e-4562-88fb-15e01b450842"
      },
      "outputs": [
        {
          "output_type": "stream",
          "name": "stdout",
          "text": [
            "The reversed list is: [5, 4, 3, 2, 1]\n"
          ]
        }
      ],
      "source": [
        "# Write a Python program to reverse a list.\n",
        "my_list = [1, 2, 3, 4, 5]\n",
        "reversed_list = my_list[::-1]\n",
        "print(\"The reversed list is:\", reversed_list)"
      ]
    },
    {
      "cell_type": "code",
      "execution_count": null,
      "id": "aa287db8-057b-48d4-a6d8-18cc53eb7178",
      "metadata": {
        "id": "aa287db8-057b-48d4-a6d8-18cc53eb7178",
        "colab": {
          "base_uri": "https://localhost:8080/"
        },
        "outputId": "13f8b2b4-62a3-4c24-e222-5eca5d3d1442"
      },
      "outputs": [
        {
          "output_type": "stream",
          "name": "stdout",
          "text": [
            "Removed the occurence of the element 2\n",
            "[1, 3, 4, 5]\n"
          ]
        }
      ],
      "source": [
        "# Write a Python program to remove all occurrences of a specific element from a list.\n",
        "my_list = [1, 2, 3, 2, 4, 2, 5]\n",
        "element_to_remove = 2\n",
        "my_list = [x for x in my_list if x != element_to_remove]\n",
        "print(\"Removed the occurence of the element\",element_to_remove)\n",
        "print(my_list)"
      ]
    },
    {
      "cell_type": "code",
      "execution_count": null,
      "id": "da9ba926-0ab5-46e9-b66d-128088c3225b",
      "metadata": {
        "id": "da9ba926-0ab5-46e9-b66d-128088c3225b",
        "colab": {
          "base_uri": "https://localhost:8080/"
        },
        "outputId": "1284df36-130b-4b89-eec5-d584be351a56"
      },
      "outputs": [
        {
          "output_type": "stream",
          "name": "stdout",
          "text": [
            "The index of 30 is 2\n"
          ]
        }
      ],
      "source": [
        "# Write a Python program to find the index of an element in a list.\n",
        "my_list = [10, 20, 30, 40, 50]\n",
        "element_to_find = 30\n",
        "index = my_list.index(element_to_find)\n",
        "print(\"The index of\",element_to_find,\"is\",index)"
      ]
    },
    {
      "cell_type": "code",
      "execution_count": null,
      "id": "9601b6e4-cb90-4e1f-87b4-38ed37076e0d",
      "metadata": {
        "id": "9601b6e4-cb90-4e1f-87b4-38ed37076e0d",
        "colab": {
          "base_uri": "https://localhost:8080/"
        },
        "outputId": "c83cf0f2-e8f2-4cef-ed8c-5f3cc35e5772"
      },
      "outputs": [
        {
          "output_type": "stream",
          "name": "stdout",
          "text": [
            "The element exists in the list.\n"
          ]
        }
      ],
      "source": [
        "# Write a Python program to find if a specific element exists in a list.\n",
        "my_list = [1, 2, 3, 4, 5]\n",
        "element_to_find = 3\n",
        "if element_to_find in my_list:\n",
        "    print(\"The element exists in the list.\")"
      ]
    },
    {
      "cell_type": "code",
      "execution_count": null,
      "id": "9d8e7311-81de-4da2-826c-c4dcad28ed9f",
      "metadata": {
        "id": "9d8e7311-81de-4da2-826c-c4dcad28ed9f",
        "colab": {
          "base_uri": "https://localhost:8080/"
        },
        "outputId": "12c59134-9ad8-4f37-a746-e16a8a555aad"
      },
      "outputs": [
        {
          "output_type": "stream",
          "name": "stdout",
          "text": [
            "The list with duplicates removed: [1, 2, 3, 4, 5]\n"
          ]
        }
      ],
      "source": [
        "# Write a Python program to remove duplicates from a list.\n",
        "my_list = [1, 2, 2, 3, 4, 4, 5]\n",
        "unique_list = list(set(my_list))\n",
        "print(\"The list with duplicates removed:\", unique_list)"
      ]
    },
    {
      "cell_type": "code",
      "execution_count": null,
      "id": "09e5121b-97b3-42e4-8025-f28f3470681b",
      "metadata": {
        "id": "09e5121b-97b3-42e4-8025-f28f3470681b",
        "colab": {
          "base_uri": "https://localhost:8080/"
        },
        "outputId": "f01a96eb-f3d9-4d7c-9be0-9f07385b5b99"
      },
      "outputs": [
        {
          "output_type": "stream",
          "name": "stdout",
          "text": [
            "The occurence of the element 4 in the list is 2 times.\n"
          ]
        }
      ],
      "source": [
        "# Write a Python program to count the occurrences of an element in a list.\n",
        "my_list = [1, 2, 2, 3, 4, 4, 5]\n",
        "element_to_count = 4\n",
        "count = my_list.count(element_to_count)\n",
        "print(\"The occurence of the element\",element_to_count,\"in the list is\",count,\"times.\")"
      ]
    },
    {
      "cell_type": "code",
      "execution_count": null,
      "id": "b774b741-e9a6-45db-8f00-e6d9b734d03a",
      "metadata": {
        "id": "b774b741-e9a6-45db-8f00-e6d9b734d03a",
        "colab": {
          "base_uri": "https://localhost:8080/"
        },
        "outputId": "13eda752-2b4c-4478-cca9-965c3a38f3fc"
      },
      "outputs": [
        {
          "output_type": "stream",
          "name": "stdout",
          "text": [
            "The number of even numbers in the list is: 3\n"
          ]
        }
      ],
      "source": [
        "# Write a Python program to get the number of even numbers in a list.\n",
        "my_list = [1, 2, 3, 4, 5, 6]\n",
        "count = 0\n",
        "for number in my_list:\n",
        "  if number % 2 == 0:\n",
        "    count += 1\n",
        "print(\"The number of even numbers in the list is:\", count)"
      ]
    },
    {
      "cell_type": "code",
      "execution_count": null,
      "id": "5ce4fd2b-ab16-4b40-9ac2-d19c244d8d96",
      "metadata": {
        "id": "5ce4fd2b-ab16-4b40-9ac2-d19c244d8d96",
        "colab": {
          "base_uri": "https://localhost:8080/"
        },
        "outputId": "fa2d0b72-f8ed-4726-c7d9-912bc7b0a0c8"
      },
      "outputs": [
        {
          "output_type": "stream",
          "name": "stdout",
          "text": [
            "The tuple is: (1, 2, 3, 4, 5)\n"
          ]
        }
      ],
      "source": [
        "# Write a Python program to create a tuple and print it.\n",
        "my_tuple = (1, 2, 3, 4, 5)\n",
        "print(\"The tuple is:\", my_tuple)"
      ]
    },
    {
      "cell_type": "code",
      "execution_count": null,
      "id": "5c04f880-6e96-4ef4-9f4b-df21aae76ff1",
      "metadata": {
        "id": "5c04f880-6e96-4ef4-9f4b-df21aae76ff1",
        "colab": {
          "base_uri": "https://localhost:8080/"
        },
        "outputId": "867d3769-acdb-4500-84fe-707a4d5c520f"
      },
      "outputs": [
        {
          "output_type": "stream",
          "name": "stdout",
          "text": [
            "List: [1, 2, 3, 4, 5]\n",
            "Tuple: (1, 2, 3, 4, 5)\n"
          ]
        }
      ],
      "source": [
        "# Write a Python program to convert a tuple to a list and vice versa.\n",
        "my_tuple = (1, 2, 3, 4, 5)\n",
        "my_list = list(my_tuple)\n",
        "print(\"List:\", my_list)\n",
        "new_tuple = tuple(my_list)\n",
        "print(\"Tuple:\", new_tuple)\n"
      ]
    },
    {
      "cell_type": "code",
      "execution_count": null,
      "id": "d5192acc-27f3-456e-9c72-3b276a587bf5",
      "metadata": {
        "id": "d5192acc-27f3-456e-9c72-3b276a587bf5",
        "colab": {
          "base_uri": "https://localhost:8080/"
        },
        "outputId": "7a2b9f8a-3da7-45aa-9f34-8e4b9258f41a"
      },
      "outputs": [
        {
          "output_type": "stream",
          "name": "stdout",
          "text": [
            "The maximum value is: 50\n",
            "The minimum value is: 10\n"
          ]
        }
      ],
      "source": [
        "# Write a Python program to find the maximum and minimum values in a tuple.\n",
        "my_tuple = (10, 20, 30, 40, 50)\n",
        "maximum = max(my_tuple)\n",
        "minimum = min(my_tuple)\n",
        "print(\"The maximum value is:\", maximum)\n",
        "print(\"The minimum value is:\", minimum)"
      ]
    },
    {
      "cell_type": "code",
      "execution_count": null,
      "id": "43f0a340-9407-4302-af7e-4e63db578bbf",
      "metadata": {
        "id": "43f0a340-9407-4302-af7e-4e63db578bbf",
        "colab": {
          "base_uri": "https://localhost:8080/"
        },
        "outputId": "8d0ade9a-5676-4fe2-95f2-9a9d9b3e586f"
      },
      "outputs": [
        {
          "output_type": "stream",
          "name": "stdout",
          "text": [
            "a: 10\n",
            "b: 20\n",
            "c: 30\n"
          ]
        }
      ],
      "source": [
        "# Write a Python program to unpack a tuple into variables.\n",
        "my_tuple = (10, 20, 30)\n",
        "a, b, c = my_tuple\n",
        "print(\"a:\", a)\n",
        "print(\"b:\", b)\n",
        "print(\"c:\", c)"
      ]
    },
    {
      "cell_type": "code",
      "execution_count": null,
      "id": "46e96e29-2157-4b9f-bb24-0bd973eada9f",
      "metadata": {
        "id": "46e96e29-2157-4b9f-bb24-0bd973eada9f",
        "colab": {
          "base_uri": "https://localhost:8080/"
        },
        "outputId": "8163e7b2-7a0e-4af7-fc48-3308a6ca6fa6"
      },
      "outputs": [
        {
          "output_type": "stream",
          "name": "stdout",
          "text": [
            "The set after adding an element: {1, 2, 3, 4, 5, 6}\n"
          ]
        }
      ],
      "source": [
        "# Write a Python program to add an element to a set and check if an element exists in the set.\n",
        "my_set = {1, 2, 3, 4, 5}\n",
        "my_set.add(6)\n",
        "print(\"The set after adding an element:\", my_set)"
      ]
    },
    {
      "cell_type": "code",
      "execution_count": null,
      "id": "d81a803b-fd80-403e-9ae3-680ef44a3d86",
      "metadata": {
        "id": "d81a803b-fd80-403e-9ae3-680ef44a3d86",
        "colab": {
          "base_uri": "https://localhost:8080/"
        },
        "outputId": "1fd24e6a-31c8-4321-f885-ec432e87c18c"
      },
      "outputs": [
        {
          "output_type": "stream",
          "name": "stdout",
          "text": [
            "The dictionary is: {'a': 1, 'b': 2, 'c': 3}\n"
          ]
        }
      ],
      "source": [
        "# Write a Python program to create a dictionary with keys and values and print it.\n",
        "my_dict = {'a': 1, 'b': 2, 'c': 3}\n",
        "print(\"The dictionary is:\", my_dict)"
      ]
    },
    {
      "cell_type": "code",
      "execution_count": null,
      "id": "7432174b-fe75-4371-b23a-e2c5d62edb15",
      "metadata": {
        "id": "7432174b-fe75-4371-b23a-e2c5d62edb15",
        "colab": {
          "base_uri": "https://localhost:8080/"
        },
        "outputId": "7b9c10c2-41a5-48b5-e112-df2f66466586"
      },
      "outputs": [
        {
          "output_type": "stream",
          "name": "stdout",
          "text": [
            "The value associated with key b is: 2\n"
          ]
        }
      ],
      "source": [
        "# Write a Python program to access a dictionary value using a key.\n",
        "my_dict = {'a': 1, 'b': 2, 'c': 3}\n",
        "key = 'b'\n",
        "value = my_dict[key]\n",
        "print(\"The value associated with key\", key, \"is:\", value)"
      ]
    },
    {
      "cell_type": "code",
      "execution_count": null,
      "id": "000b3260-d91f-41f2-9729-4b0124f2c4d2",
      "metadata": {
        "id": "000b3260-d91f-41f2-9729-4b0124f2c4d2",
        "colab": {
          "base_uri": "https://localhost:8080/"
        },
        "outputId": "7cf48c59-7a76-442a-8069-a5b1a957f077"
      },
      "outputs": [
        {
          "output_type": "stream",
          "name": "stdout",
          "text": [
            "The key b exists in the dictionary.\n"
          ]
        }
      ],
      "source": [
        "# Write a Python program to check if a key exists in a dictionary.\n",
        "my_dict = {'a': 1, 'b': 2, 'c': 3}\n",
        "key = 'b'\n",
        "if key in my_dict:\n",
        "    print(\"The key\", key, \"exists in the dictionary.\")"
      ]
    },
    {
      "cell_type": "code",
      "execution_count": null,
      "id": "c4b1a942-818e-42c1-b742-1fabe80fca6d",
      "metadata": {
        "id": "c4b1a942-818e-42c1-b742-1fabe80fca6d",
        "colab": {
          "base_uri": "https://localhost:8080/"
        },
        "outputId": "e6fa3100-50c8-4818-829f-ee4abbd51351"
      },
      "outputs": [
        {
          "output_type": "stream",
          "name": "stdout",
          "text": [
            "The merged dictionary is: {'a': 1, 'b': 2, 'c': 3, 'd': 4}\n"
          ]
        }
      ],
      "source": [
        "# Write a Python program to merge two dictionaries.\n",
        "dict1 = {'a': 1, 'b': 2}\n",
        "dict2 = {'c': 3, 'd': 4}\n",
        "merged_dict = {**dict1, **dict2}\n",
        "print(\"The merged dictionary is:\", merged_dict)"
      ]
    },
    {
      "cell_type": "code",
      "execution_count": null,
      "id": "a78f1070-3ff3-436a-8391-153f019f53cd",
      "metadata": {
        "id": "a78f1070-3ff3-436a-8391-153f019f53cd",
        "colab": {
          "base_uri": "https://localhost:8080/"
        },
        "outputId": "52ee1fee-8ffe-4f1e-e52a-a50d7d71f944"
      },
      "outputs": [
        {
          "output_type": "stream",
          "name": "stdout",
          "text": [
            "{'a': 1, 'c': 3}\n"
          ]
        }
      ],
      "source": [
        "# Write a Python program to remove a key from a dictionary.\n",
        "my_dict = {'a': 1, 'b': 2, 'c': 3}\n",
        "del my_dict['b']\n",
        "print(my_dict)"
      ]
    },
    {
      "cell_type": "code",
      "execution_count": null,
      "id": "fcba0267-8cc4-4e89-9e78-2d820916c177",
      "metadata": {
        "id": "fcba0267-8cc4-4e89-9e78-2d820916c177",
        "colab": {
          "base_uri": "https://localhost:8080/"
        },
        "outputId": "af5cf915-ff73-497b-b7b0-a71082291ae1"
      },
      "outputs": [
        {
          "output_type": "stream",
          "name": "stdout",
          "text": [
            "3\n"
          ]
        }
      ],
      "source": [
        "# Write a Python program to get the number of keys in a dictionary.\n",
        "my_dict = {'Name': 'Saba', 'Group': 'CSE', 'College': 'Rishi'}\n",
        "num_keys = len(my_dict)\n",
        "print(num_keys)"
      ]
    },
    {
      "cell_type": "code",
      "execution_count": null,
      "id": "d4c5fd77-9656-43e5-8fe2-be7dca23eb6d",
      "metadata": {
        "id": "d4c5fd77-9656-43e5-8fe2-be7dca23eb6d",
        "colab": {
          "base_uri": "https://localhost:8080/"
        },
        "outputId": "a5f4acf4-bcb7-4697-decc-42edfbbcffad"
      },
      "outputs": [
        {
          "output_type": "stream",
          "name": "stdout",
          "text": [
            "Largest value: 15\n",
            "Smallest value: 5\n"
          ]
        }
      ],
      "source": [
        "# Write a Python program to find the largest and smallest values in a dictionary.\n",
        "my_dict = {'a': 10, 'b': 5, 'c': 15}\n",
        "values = my_dict.values()\n",
        "largest_value = max(values)\n",
        "smallest_value = min(values)\n",
        "print(\"Largest value:\", largest_value)\n",
        "print(\"Smallest value:\", smallest_value)"
      ]
    },
    {
      "cell_type": "markdown",
      "id": "7830b8cc-9a90-45a2-8e4a-6f3c2b8b133b",
      "metadata": {
        "id": "7830b8cc-9a90-45a2-8e4a-6f3c2b8b133b"
      },
      "source": [
        "## Functions (User-Defined, Arguments, Keyword Arguments, Return Values)"
      ]
    },
    {
      "cell_type": "code",
      "execution_count": null,
      "id": "06a33fba-c6b1-4989-90f4-b647d1fe1627",
      "metadata": {
        "id": "06a33fba-c6b1-4989-90f4-b647d1fe1627"
      },
      "outputs": [],
      "source": [
        "# Write a Python function that returns the square of a number.\n",
        "def square(number):\n",
        "    return number ** 2\n",
        "    result = square(5)\n",
        "    print(\"The square of 5 is:\", result)"
      ]
    },
    {
      "cell_type": "code",
      "execution_count": null,
      "id": "91d90a4a-7329-45db-893b-caed8450ba96",
      "metadata": {
        "id": "91d90a4a-7329-45db-893b-caed8450ba96",
        "colab": {
          "base_uri": "https://localhost:8080/"
        },
        "outputId": "fde15dd5-1993-4f3d-a3a9-eb0fc8e1468e"
      },
      "outputs": [
        {
          "output_type": "stream",
          "name": "stdout",
          "text": [
            "8\n"
          ]
        }
      ],
      "source": [
        "# Write a Python function that accepts two parameters and returns their sum.\n",
        "def add_numbers(num1, num2):\n",
        "    total = num1 + num2\n",
        "    return total\n",
        "result = add_numbers(5, 3)\n",
        "print(result)"
      ]
    },
    {
      "cell_type": "code",
      "execution_count": null,
      "id": "dec2f9a5-90c5-478b-890b-0a506ecf45d3",
      "metadata": {
        "id": "dec2f9a5-90c5-478b-890b-0a506ecf45d3"
      },
      "outputs": [],
      "source": [
        "# Write a Python function to check if a given number is prime.\n",
        "def is_prime(number):\n",
        "    if number <= 1:\n",
        "        return False\n",
        "    for i in range(2, int(number ** 0.5) + 1):\n",
        "        if number % i == 0:\n",
        "            return False\n",
        "    return True"
      ]
    },
    {
      "cell_type": "code",
      "execution_count": null,
      "id": "56337441-68c3-45df-8733-a34cde0533a5",
      "metadata": {
        "id": "56337441-68c3-45df-8733-a34cde0533a5"
      },
      "outputs": [],
      "source": [
        "# Write a Python function to calculate the factorial of a number using recursion.\n",
        "def factorial(n):\n",
        "  if n == 0:\n",
        "    return 1\n",
        "  else:\n",
        "    return n * factorial(n - 1)"
      ]
    },
    {
      "cell_type": "code",
      "execution_count": null,
      "id": "84a2d010-e7b2-409b-b1f4-99bf806bb77a",
      "metadata": {
        "id": "84a2d010-e7b2-409b-b1f4-99bf806bb77a"
      },
      "outputs": [],
      "source": [
        "# Write a Python function to calculate the power of a number using recursion.\n",
        "def power(base, exponent):\n",
        "    if exponent == 0:\n",
        "        return 1\n",
        "    else:\n",
        "        return base * power(base, exponent - 1)"
      ]
    },
    {
      "cell_type": "code",
      "execution_count": null,
      "id": "ec44911e-7820-46cc-96a3-4ca443888837",
      "metadata": {
        "id": "ec44911e-7820-46cc-96a3-4ca443888837"
      },
      "outputs": [],
      "source": [
        "# Write a Python function to accept a list and return its length without using the built-in len() function.\n",
        "def get_list_length(my_list):\n",
        "    count = 0\n",
        "    for element in my_list:\n",
        "        count += 1\n",
        "    return count\n"
      ]
    },
    {
      "cell_type": "code",
      "execution_count": null,
      "id": "fb4c08e1-34f3-487a-a1c6-77cd60fb4836",
      "metadata": {
        "id": "fb4c08e1-34f3-487a-a1c6-77cd60fb4836"
      },
      "outputs": [],
      "source": [
        "# Write a Python function that accepts both positional and keyword arguments and prints the sum of positional arguments.\n",
        "def sum_positional_arguments(*args):\n",
        "    total = 0\n",
        "    for arg in args:\n",
        "        total += arg\n",
        "    return total\n"
      ]
    },
    {
      "cell_type": "code",
      "execution_count": null,
      "id": "f4ffc7a8-f579-461c-b507-4085a0477283",
      "metadata": {
        "id": "f4ffc7a8-f579-461c-b507-4085a0477283"
      },
      "outputs": [],
      "source": [
        "# Write a Python function to find the maximum of two numbers using keyword arguments.\n",
        "def find_maximum(a, b):\n",
        "    if a > b:\n",
        "        return a\n",
        "    else:\n",
        "        return b\n"
      ]
    },
    {
      "cell_type": "code",
      "execution_count": null,
      "id": "0b00c4af-89e0-43e8-a991-1b684d2ce33f",
      "metadata": {
        "id": "0b00c4af-89e0-43e8-a991-1b684d2ce33f"
      },
      "outputs": [],
      "source": [
        "# Write a Python function that accepts a list of numbers and returns their product.\n",
        "def calculate_product(numbers):\n",
        "    product = 1\n",
        "    for number in numbers:\n",
        "        product *= number\n",
        "    return product\n"
      ]
    },
    {
      "cell_type": "code",
      "execution_count": null,
      "id": "9cd11703-5b48-44fe-af4e-ea906a2762c9",
      "metadata": {
        "id": "9cd11703-5b48-44fe-af4e-ea906a2762c9"
      },
      "outputs": [],
      "source": [
        "# Write a Python function to check if a number is even or odd using the modulo operator.\n",
        "def check_even_odd(number):\n",
        "    if number % 2 == 0:\n",
        "        return \"Even\"\n",
        "    else:\n",
        "        return \"Odd\""
      ]
    },
    {
      "cell_type": "code",
      "execution_count": null,
      "id": "afbf262e-daed-40a9-827f-82fa60979610",
      "metadata": {
        "id": "afbf262e-daed-40a9-827f-82fa60979610",
        "colab": {
          "base_uri": "https://localhost:8080/"
        },
        "outputId": "469f0b7e-ae1f-433c-8a65-9c11363f4629"
      },
      "outputs": [
        {
          "output_type": "stream",
          "name": "stdout",
          "text": [
            "[1, 4, 9, 16, 25, 36, 49, 64, 81, 100]\n"
          ]
        }
      ],
      "source": [
        "# Write a Python program to create a list of squares of numbers from 1 to 10 using list comprehension.\n",
        "squares = [x**2 for x in range(1, 11)]\n",
        "print(squares)"
      ]
    },
    {
      "cell_type": "code",
      "execution_count": null,
      "id": "7fff76d8-9ba8-4006-9be6-6f7350092d1c",
      "metadata": {
        "id": "7fff76d8-9ba8-4006-9be6-6f7350092d1c",
        "colab": {
          "base_uri": "https://localhost:8080/"
        },
        "outputId": "0eb9c4a7-5a98-4b87-f458-5247cf758c06"
      },
      "outputs": [
        {
          "output_type": "stream",
          "name": "stdout",
          "text": [
            "[2, 4, 6, 8, 10]\n"
          ]
        }
      ],
      "source": [
        "# Write a Python program to filter out all even numbers from a list using list comprehension.\n",
        "numbers = [1, 2, 3, 4, 5, 6, 7, 8, 9, 10]\n",
        "even_numbers = [x for x in numbers if x % 2 == 0]\n",
        "print(even_numbers)"
      ]
    },
    {
      "cell_type": "code",
      "execution_count": null,
      "id": "6ae9b8df-38f9-4fd7-bad1-aa7b07cc9271",
      "metadata": {
        "id": "6ae9b8df-38f9-4fd7-bad1-aa7b07cc9271",
        "colab": {
          "base_uri": "https://localhost:8080/"
        },
        "outputId": "d18f5703-280e-48b2-9d21-23b365ea83d1"
      },
      "outputs": [
        {
          "output_type": "stream",
          "name": "stdout",
          "text": [
            "['apple', 'banana', 'cherry', 'blueberry']\n"
          ]
        }
      ],
      "source": [
        "# Write a Python program to create a list of strings that are longer than 4 characters from a given list of words using list comprehension.\n",
        "words = ['apple', 'banana', 'cherry', 'date', 'blueberry']\n",
        "long_words = [word for word in words if len(word) > 4]\n",
        "print(long_words)"
      ]
    },
    {
      "cell_type": "code",
      "execution_count": null,
      "id": "f492c7d4-6ad3-48ab-9b61-232be02aecee",
      "metadata": {
        "id": "f492c7d4-6ad3-48ab-9b61-232be02aecee",
        "colab": {
          "base_uri": "https://localhost:8080/"
        },
        "outputId": "3671b027-4e66-46e7-bd14-fd898665bc18"
      },
      "outputs": [
        {
          "output_type": "stream",
          "name": "stdout",
          "text": [
            "['APPLE', 'MANGO', 'STRAWBERRY']\n"
          ]
        }
      ],
      "source": [
        "# Write a Python program to create a list of all uppercase letters in a string using list comprehension.\n",
        "words = ['apple', 'mango', 'strawberry']\n",
        "uppercase_letters = [word.upper() for word in words]\n",
        "print(uppercase_letters)"
      ]
    },
    {
      "cell_type": "code",
      "execution_count": null,
      "id": "929a7f74-1762-4a2a-be23-bacf67ff4d8b",
      "metadata": {
        "id": "929a7f74-1762-4a2a-be23-bacf67ff4d8b"
      },
      "outputs": [],
      "source": [
        "# Write a Python program to generate the first n Fibonacci numbers using list comprehension.\n",
        "def generate_fibonacci(n):\n",
        "    fibonacci_numbers = [0, 1]\n",
        "    [fibonacci_numbers.append(fibonacci_numbers[-1] + fibonacci_numbers[-2]) for _ in range(2, n)]\n",
        "    return fibonacci_numbers\n"
      ]
    },
    {
      "cell_type": "code",
      "execution_count": null,
      "id": "47188bbc-cf62-47bb-a14e-0582c8b5cdd9",
      "metadata": {
        "id": "47188bbc-cf62-47bb-a14e-0582c8b5cdd9",
        "colab": {
          "base_uri": "https://localhost:8080/"
        },
        "outputId": "ea5cef61-cb8d-4f85-e584-f2230c9588f8"
      },
      "outputs": [
        {
          "output_type": "stream",
          "name": "stdout",
          "text": [
            "{1: 1, 2: 4, 3: 9, 4: 16, 5: 25}\n"
          ]
        }
      ],
      "source": [
        "# Write a Python program to create a dictionary where keys are numbers and values are their squares using dictionary comprehension.\n",
        "squares = {x: x**2 for x in range(1, 6)}\n",
        "print(squares)"
      ]
    },
    {
      "cell_type": "code",
      "execution_count": null,
      "id": "3c4637d3-aa85-4b4c-acf3-953c10818bcb",
      "metadata": {
        "id": "3c4637d3-aa85-4b4c-acf3-953c10818bcb",
        "colab": {
          "base_uri": "https://localhost:8080/"
        },
        "outputId": "bd73008d-07ea-4c79-9bc3-8b16696220c5"
      },
      "outputs": [
        {
          "output_type": "stream",
          "name": "stdout",
          "text": [
            "{'name': 'Saba', 'age': 19, 'city': 'Hyderabad'}\n"
          ]
        }
      ],
      "source": [
        "# Write a Python program to create a dictionary from two lists (one for keys and one for values) using dictionary comprehension.\n",
        "keys = ['name', 'age', 'city']\n",
        "values = ['Saba', 19, 'Hyderabad']\n",
        "my_dict = {keys[i]: values[i] for i in range(len(keys))}\n",
        "print(my_dict)"
      ]
    },
    {
      "cell_type": "code",
      "execution_count": 3,
      "id": "de817d6f-96e7-4346-839e-1ef0df539b6b",
      "metadata": {
        "id": "de817d6f-96e7-4346-839e-1ef0df539b6b",
        "colab": {
          "base_uri": "https://localhost:8080/"
        },
        "outputId": "e0f532fb-48b3-4c70-853b-a13ef9ec9822"
      },
      "outputs": [
        {
          "output_type": "stream",
          "name": "stdout",
          "text": [
            "{1: 1, 2: 8, 3: 27, 4: 64, 5: 125}\n"
          ]
        }
      ],
      "source": [
        "# Write a Python program to create a dictionary of numbers from 1 to 5 and their cubes using dictionary comprehension.\n",
        "cubes = {x: x**3 for x in range(1, 6)}\n",
        "print(cubes)"
      ]
    },
    {
      "cell_type": "code",
      "execution_count": 4,
      "id": "33695301-057e-49a6-9f80-a2f4e3af60ed",
      "metadata": {
        "id": "33695301-057e-49a6-9f80-a2f4e3af60ed",
        "colab": {
          "base_uri": "https://localhost:8080/"
        },
        "outputId": "dd076579-48ca-4a41-9d50-1b406b00b675"
      },
      "outputs": [
        {
          "output_type": "stream",
          "name": "stdout",
          "text": [
            "[1, 4, 9, 16, 25]\n"
          ]
        }
      ],
      "source": [
        "# Write a Python program to square each element of a list using the map() function.\n",
        "numbers = [1, 2, 3, 4, 5]\n",
        "def square(x):\n",
        "    return x * x\n",
        "squared_numbers = list(map(square, numbers))\n",
        "print(squared_numbers)"
      ]
    },
    {
      "cell_type": "code",
      "execution_count": 8,
      "id": "6d4d17f3-c40f-4944-8656-c6416b600361",
      "metadata": {
        "id": "6d4d17f3-c40f-4944-8656-c6416b600361",
        "colab": {
          "base_uri": "https://localhost:8080/"
        },
        "outputId": "c0684694-4a46-4fad-950d-e80fe4ca8647"
      },
      "outputs": [
        {
          "output_type": "stream",
          "name": "stdout",
          "text": [
            "[2, 4, 6, 8, 10]\n"
          ]
        }
      ],
      "source": [
        "# Write a Python program to filter all even numbers from a list using the filter() function.\n",
        "numbers = [1, 2, 3, 4, 5, 6, 7, 8, 9, 10]\n",
        "def is_even(x):\n",
        "  return x % 2 == 0\n",
        "even_numbers = list(filter(is_even, numbers))\n",
        "print(even_numbers)"
      ]
    },
    {
      "cell_type": "code",
      "source": [],
      "metadata": {
        "id": "NYn0-doK38dO"
      },
      "id": "NYn0-doK38dO",
      "execution_count": null,
      "outputs": []
    },
    {
      "cell_type": "code",
      "execution_count": 23,
      "id": "6634ba1f-9f81-475e-b7c4-422d102afb75",
      "metadata": {
        "id": "6634ba1f-9f81-475e-b7c4-422d102afb75",
        "colab": {
          "base_uri": "https://localhost:8080/"
        },
        "outputId": "03751802-77d3-41de-fdba-dbc8b259f284"
      },
      "outputs": [
        {
          "output_type": "stream",
          "name": "stdout",
          "text": [
            "Enter a number: 15\n",
            "15 is divisible by both 3 and 5\n"
          ]
        }
      ],
      "source": [
        "# Write a Python program to use a lambda function to check if a number is divisible by both 3 and 5.\n",
        "is_divisible_by_3_and_5 = lambda number: number % 3 == 0 and number % 5 == 0\n",
        "number = int(input(\"Enter a number: \"))\n",
        "if is_divisible_by_3_and_5(number):\n",
        "    print(f\"{number} is divisible by both 3 and 5\")\n",
        "else:\n",
        "    print(f\"{number} is not divisible by both 3 and 5\")"
      ]
    },
    {
      "cell_type": "code",
      "execution_count": 21,
      "id": "0aac8430-5d77-439d-9a99-9598fadf989c",
      "metadata": {
        "id": "0aac8430-5d77-439d-9a99-9598fadf989c"
      },
      "outputs": [],
      "source": [
        "# Write a Python program to multiply all numbers in a list by 2 using a lambda function inside map().\n"
      ]
    },
    {
      "cell_type": "code",
      "execution_count": 17,
      "id": "e4cd5ba8-c6ec-4f0d-8787-bf0a4b7a2e22",
      "metadata": {
        "id": "e4cd5ba8-c6ec-4f0d-8787-bf0a4b7a2e22",
        "colab": {
          "base_uri": "https://localhost:8080/"
        },
        "outputId": "30e66ac2-662e-4dd2-c45c-274bc27548a4"
      },
      "outputs": [
        {
          "output_type": "stream",
          "name": "stdout",
          "text": [
            "Removed the occurence of the element 2\n",
            "[1, 3, 4, 5]\n"
          ]
        }
      ],
      "source": [
        "# Write a Python program to remove all occurrences of a specific element from a list.\n",
        "my_list = [1, 2, 3, 2, 4, 2, 5]\n",
        "element_to_remove = 2\n",
        "my_list = [x for x in my_list if x != element_to_remove]\n",
        "print(\"Removed the occurence of the element\",element_to_remove)\n",
        "print(my_list)"
      ]
    },
    {
      "cell_type": "markdown",
      "id": "caba77c7-93db-4893-8f48-c7365ed5c585",
      "metadata": {
        "id": "caba77c7-93db-4893-8f48-c7365ed5c585"
      },
      "source": [
        "**Note:**\n",
        "- All assignments must follow [PEP 8 – Style Guide for Python Code](https://peps.python.org/pep-0008/) guidelines.\n",
        "- You can add multiple solutions for each question. Create a new code cell next to the question and add it. Shortcut for creating cell : `Alt + Enter`"
      ]
    }
  ],
  "metadata": {
    "kernelspec": {
      "display_name": "Python 3 (ipykernel)",
      "language": "python",
      "name": "python3"
    },
    "language_info": {
      "codemirror_mode": {
        "name": "ipython",
        "version": 3
      },
      "file_extension": ".py",
      "mimetype": "text/x-python",
      "name": "python",
      "nbconvert_exporter": "python",
      "pygments_lexer": "ipython3",
      "version": "3.12.6"
    },
    "colab": {
      "provenance": [],
      "include_colab_link": true
    }
  },
  "nbformat": 4,
  "nbformat_minor": 5
}